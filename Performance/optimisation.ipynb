{
 "cells": [
  {
   "cell_type": "markdown",
   "metadata": {},
   "source": [
    "## Optimisation"
   ]
  },
  {
   "cell_type": "markdown",
   "metadata": {},
   "source": [
    "Zoptymalizować program pod kątem wydajności:\n",
    "- Pobrać przygotowany kod niezoptymalizowanego programu. Jest to prosta biblioteka do reprezentacji grafów, która zawiera funkcje do tworzenia grafów w reprezentacji tablicowej i obiektowej, a także przykłady operacji wykonywanych na grafach (bfs, sprawdzanie cyklu Eulera) i funkcje wypisujące elementy grafu.\n",
    "- Na podstawie materiałów z ćwiczeń i wykładu znaleźć i poprawić fragmenty, które zostały napisane niezgodnie z zasadami tworzenia wydajnych aplikacji w Julii. \n",
    "- Aby dostać maksymalną liczbę punktów, należy wykonać przynajmniej 5 (różnych) optymalizacji.\n",
    "- W celu weryfikacji poprawek należy użyć narzędzi do pomiaru czasu i alokowanej pamięci. \n",
    "\n",
    "Source code:\n",
    "https://github.com/kzajac/kzajac.github.io/blob/master/julia/lab2/graphs.jl"
   ]
  },
  {
   "cell_type": "markdown",
   "metadata": {},
   "source": [
    "## Original module"
   ]
  },
  {
   "cell_type": "code",
   "execution_count": 1,
   "metadata": {
    "collapsed": false
   },
   "outputs": [
    {
     "data": {
      "text/plain": [
       "Graphs"
      ]
     },
     "execution_count": 1,
     "metadata": {},
     "output_type": "execute_result"
    }
   ],
   "source": [
    "module Graphs\n",
    "\n",
    "using StatsBase\n",
    "\n",
    "export GraphVertex, NodeType, Person, Address,\n",
    "       generate_random_graph, get_random_person, get_random_address, generate_random_nodes,\n",
    "       convert_to_graph,\n",
    "       bfs, check_euler, partition,\n",
    "       graph_to_str, node_to_str,\n",
    "       test_graph\n",
    "\n",
    "#= Single graph vertex type.\n",
    "Holds node value and information about adjacent vertices =#\n",
    "type GraphVertex\n",
    "  value\n",
    "  neighbors ::Vector\n",
    "end\n",
    "\n",
    "# Types of valid graph node's values.\n",
    "abstract NodeType\n",
    "\n",
    "type Person <: NodeType\n",
    "  name\n",
    "end\n",
    "\n",
    "type Address <: NodeType\n",
    "  streetNumber\n",
    "end\n",
    "\n",
    "\n",
    "# Number of graph nodes.\n",
    "N = 800\n",
    "\n",
    "# Number of graph edges.\n",
    "K = 10000\n",
    "\n",
    "\n",
    "#= Generates random directed graph of size N with K edges\n",
    "and returns its adjacency matrix.=#\n",
    "function generate_random_graph()\n",
    "    A = Array{Int64,2}(N, N)\n",
    "\n",
    "    for i=1:N, j=1:N\n",
    "      A[i,j] = 0\n",
    "    end\n",
    "\n",
    "    for i in sample(1:N*N, K, replace=false)\n",
    "      row, col = ind2sub(size(A), i)\n",
    "      A[row,col] = 1\n",
    "      A[col,row] = 1\n",
    "    end\n",
    "    A\n",
    "end\n",
    "\n",
    "# Generates random person object (with random name).\n",
    "function get_random_person()\n",
    "  Person(randstring())\n",
    "end\n",
    "\n",
    "# Generates random person object (with random name).\n",
    "function get_random_address()\n",
    "  Address(rand(1:100))\n",
    "end\n",
    "\n",
    "# Generates N random nodes (of random NodeType).\n",
    "function generate_random_nodes()\n",
    "  nodes = Vector()\n",
    "  for i= 1:N\n",
    "    push!(nodes, rand() > 0.5 ? get_random_person() : get_random_address())\n",
    "  end\n",
    "  nodes\n",
    "end\n",
    "\n",
    "#= Converts given adjacency matrix (NxN)\n",
    "  into list of graph vertices (of type GraphVertex and length N). =#\n",
    "function convert_to_graph(A, nodes)\n",
    "  N = length(nodes)\n",
    "  push!(graph, map(n -> GraphVertex(n, GraphVertex[]), nodes)...)\n",
    "\n",
    "  for i = 1:N, j = 1:N\n",
    "      if A[i,j] == 1\n",
    "        push!(graph[i].neighbors, graph[j])\n",
    "      end\n",
    "  end\n",
    "end\n",
    "\n",
    "#= Groups graph nodes into connected parts. E.g. if entire graph is connected,\n",
    "  result list will contain only one part with all nodes. =#\n",
    "function partition()\n",
    "  parts = []\n",
    "  remaining = Set(graph)\n",
    "  visited = bfs(remaining=remaining)\n",
    "  push!(parts, Set(visited))\n",
    "\n",
    "  while !isempty(remaining)\n",
    "    new_visited = bfs(visited=visited, remaining=remaining)\n",
    "    push!(parts, new_visited)\n",
    "  end\n",
    "  parts\n",
    "end\n",
    "\n",
    "#= Performs BFS traversal on the graph and returns list of visited nodes.\n",
    "  Optionally, BFS can initialized with set of skipped and remaining nodes.\n",
    "  Start nodes is taken from the set of remaining elements. =#\n",
    "function bfs(;visited=Set(), remaining=Set(graph))\n",
    "  first = next(remaining, start(remaining))[1]\n",
    "  q = [first]\n",
    "  push!(visited, first)\n",
    "  delete!(remaining, first)\n",
    "  local_visited = Set([first])\n",
    "\n",
    "  while !isempty(q)\n",
    "    v = pop!(q)\n",
    "\n",
    "    for n in v.neighbors\n",
    "      if !(n in visited)\n",
    "        push!(q, n)\n",
    "        push!(visited, n)\n",
    "        push!(local_visited, n)\n",
    "        delete!(remaining, n)\n",
    "      end\n",
    "    end\n",
    "  end\n",
    "  local_visited\n",
    "end\n",
    "\n",
    "#= Checks if there's Euler cycle in the graph by investigating\n",
    "   connectivity condition and evaluating if every vertex has even degree =#\n",
    "function check_euler()\n",
    "  if length(partition()) == 1\n",
    "    return all(map(v -> iseven(length(v.neighbors)), graph))\n",
    "  end\n",
    "    \"Graph is not connected\"\n",
    "end\n",
    "\n",
    "#= Returns text representation of the graph consisiting of each node's value\n",
    "   text and number of its neighbors. =#\n",
    "function graph_to_str()\n",
    "  graph_str = \"\"\n",
    "  for v in graph\n",
    "    graph_str *= \"****\\n\"\n",
    "\n",
    "    n = v.value\n",
    "    if isa(n, Person)\n",
    "      node_str = \"Person: $(n.name)\\n\"\n",
    "    else isa(n, Address)\n",
    "      node_str = \"Street nr: $(n.streetNumber)\\n\"\n",
    "    end\n",
    "\n",
    "    graph_str *= node_str\n",
    "    graph_str *= \"Neighbors: $(length(v.neighbors))\\n\"\n",
    "  end\n",
    "  graph_str\n",
    "end\n",
    "\n",
    "#= Tests graph functions by creating 100 graphs, checking Euler cycle\n",
    "  and creating text representation. =#\n",
    "function test_graph()\n",
    "  for i=1:100\n",
    "    global graph = GraphVertex[]\n",
    "\n",
    "    A = generate_random_graph()\n",
    "    nodes = generate_random_nodes()\n",
    "    convert_to_graph(A, nodes)\n",
    "\n",
    "    str = graph_to_str()\n",
    "    # println(str)\n",
    "    # println(check_euler())\n",
    "    res = check_euler()\n",
    "  end\n",
    "end\n",
    "\n",
    "end"
   ]
  },
  {
   "cell_type": "code",
   "execution_count": 2,
   "metadata": {
    "collapsed": false
   },
   "outputs": [
    {
     "name": "stdout",
     "output_type": "stream",
     "text": [
      " 14.690596 seconds (125.26 M allocations: 6.894 GB, 6.67% gc time)\n"
     ]
    }
   ],
   "source": [
    "using Graphs\n",
    "@time test_graph()"
   ]
  },
  {
   "cell_type": "code",
   "execution_count": 3,
   "metadata": {
    "collapsed": false
   },
   "outputs": [
    {
     "data": {
      "text/plain": [
       "BenchmarkTools.Trial: \n",
       "  memory estimate:  6.85 GiB\n",
       "  allocs estimate:  124314103\n",
       "  --------------\n",
       "  minimum time:     12.614 s (7.43% GC)\n",
       "  median time:      12.614 s (7.43% GC)\n",
       "  mean time:        12.614 s (7.43% GC)\n",
       "  maximum time:     12.614 s (7.43% GC)\n",
       "  --------------\n",
       "  samples:          1\n",
       "  evals/sample:     1"
      ]
     },
     "execution_count": 3,
     "metadata": {},
     "output_type": "execute_result"
    }
   ],
   "source": [
    "using BenchmarkTools\n",
    "@benchmark test_graph()"
   ]
  },
  {
   "cell_type": "markdown",
   "metadata": {},
   "source": [
    "## Optimised module"
   ]
  },
  {
   "cell_type": "code",
   "execution_count": 1,
   "metadata": {
    "collapsed": false,
    "deletable": true,
    "editable": true
   },
   "outputs": [
    {
     "name": "stderr",
     "output_type": "stream",
     "text": [
      "WARNING: Base.String is deprecated, use AbstractString instead.\n",
      "  likely near In[1]:23\n",
      "WARNING: Base.String is deprecated, use AbstractString instead.\n",
      "  likely near In[1]:23\n"
     ]
    },
    {
     "data": {
      "text/plain": [
       "Graphs_Optimised"
      ]
     },
     "execution_count": 1,
     "metadata": {},
     "output_type": "execute_result"
    }
   ],
   "source": [
    "module Graphs_Optimised\n",
    "\n",
    "using StatsBase\n",
    "\n",
    "export GraphVertex, NodeType, Person, Address,\n",
    "       generate_random_graph, get_random_person, get_random_address, generate_random_nodes,\n",
    "       convert_to_graph,\n",
    "       bfs, check_euler, partition,\n",
    "       graph_to_str, node_to_str,\n",
    "       test_graph\n",
    "\n",
    "abstract NodeType\n",
    "\n",
    "#= Single graph vertex type.\n",
    "Holds node value and information about adjacent vertices =#\n",
    "type GraphVertex\n",
    "  value::NodeType        # type indication -> optimisation\n",
    "  neighbors::Vector      # type indication -> optimisation\n",
    "end\n",
    "\n",
    "# Types of valid graph node's values.\n",
    "\n",
    "type Person <: NodeType\n",
    "    name::String         # type indication -> optimisation\n",
    "end\n",
    "\n",
    "type Address <: NodeType\n",
    "    streetNumber::Int64  # type indication -> optimisation\n",
    "end\n",
    "\n",
    "# Number of graph nodes.\n",
    "const N = 800   # global constant variable -> optimisation\n",
    "\n",
    "# Number of graph edges.\n",
    "const K = 10000 # global constant variable -> optimisation\n",
    "\n",
    "\n",
    "#= Generates random directed graph of size N with K edges\n",
    "and returns its adjacency matrix.=#\n",
    "\n",
    "function generate_random_graph()\n",
    "    A = zeros((N,N))       # using zeros() -> optimisation\n",
    "    for i in sample(1:N*N, K, replace=false)\n",
    "      A[i] = 1\n",
    "    end\n",
    "    A\n",
    "end\n",
    "\n",
    "# Generates random person object (with random name).\n",
    "function get_random_person()\n",
    "    Person(randstring()::String) # type indication -> optimisation\n",
    "end\n",
    "\n",
    "# Generates random person object (with random name).\n",
    "function get_random_address()\n",
    "    Address(rand(1:100)::Int64) # type indication -> optimisation\n",
    "end\n",
    "\n",
    "# Generates N random nodes (of random NodeType).\n",
    "function generate_random_nodes()\n",
    "  nodes = Vector()\n",
    "  for i= 1:N\n",
    "   push!(nodes, rand() > 0.5 ? get_random_person() : get_random_address())\n",
    "  end\n",
    "  nodes\n",
    "end\n",
    "\n",
    "#= Converts given adjacency matrix (NxN)\n",
    "  into list of graph vertices (of type GraphVertex and length N). =#\n",
    "function convert_to_graph(A, nodes)\n",
    "  graph = GraphVertex[]\n",
    "  push!(graph, map(n -> GraphVertex(n, GraphVertex[]), nodes)...)\n",
    "\n",
    "  for j = 1:N, i = 1:N\n",
    "    if A[i,j] == 1          # iteration change -> optimisation\n",
    "    push!(graph[j].neighbors, graph[i])\n",
    "    end\n",
    "  end\n",
    "  graph\n",
    "end\n",
    "\n",
    "#= Groups graph nodes into connected parts. E.g. if entire graph is connected,\n",
    "  result list will contain only one part with all nodes. =#\n",
    "function partition(graph)\n",
    "  parts = []\n",
    "  remaining = Set(graph)\n",
    "  visited = bfs(graph, remaining=remaining)\n",
    "  push!(parts, Set(visited))\n",
    "\n",
    "  while !isempty(remaining)\n",
    "    new_visited = bfs(graph, visited=visited, remaining=remaining)\n",
    "    push!(parts, new_visited)\n",
    "  end\n",
    "  parts\n",
    "end\n",
    "\n",
    "#= Performs BFS traversal on the graph and returns list of visited nodes.\n",
    "  Optionally, BFS can initialized with set of skipped and remaining nodes.\n",
    "  Start nodes is taken from the set of remaining elements. =#\n",
    "function bfs(graph::Array{GraphVertex,1}; visited=Set(), remaining=Set(graph))\n",
    "  first = next(remaining, start(remaining))[1]\n",
    "  q = [first]\n",
    "  push!(visited, first)\n",
    "  delete!(remaining, first)\n",
    "  local_visited = Set([first])\n",
    "\n",
    "  while !isempty(q)\n",
    "    v = pop!(q)\n",
    "\n",
    "    for n in v.neighbors\n",
    "      if !(n in visited)\n",
    "        push!(q, n)\n",
    "        push!(visited, n)\n",
    "        push!(local_visited, n)\n",
    "        delete!(remaining, n)\n",
    "      end\n",
    "    end\n",
    "  end\n",
    "  local_visited\n",
    "end\n",
    "\n",
    "#= Checks if there's Euler cycle in the graph by investigating\n",
    "   connectivity condition and evaluating if every vertex has even degree =#\n",
    "function check_euler(graph::Array{GraphVertex,1})\n",
    "  if length(partition(graph)) == 1\n",
    "    return all(map(v -> iseven(length(v.neighbors)), graph))\n",
    "  end\n",
    "    \"Graph is not connected\"\n",
    "end\n",
    "\n",
    "        \n",
    "#= Returns text representation of the graph consisiting of each node's value\n",
    "   text and number of its neighbors. =#\n",
    "        \n",
    "node_to_str(p::Person) = \"Person: $(p.name)\\n\"          \n",
    "node_to_str(a::Address) = \"Street nr: $(a.streetNumber)\\n\"  \n",
    "neighbors_to_str(v::Vector) = \"Neighbors: $(length(v))\\n\"\n",
    "        \n",
    "function graph_vertex_to_str(v::GraphVertex)     # division into smaller functions -> optimisation\n",
    "    graph_vertex_str = \"****\\n\"\n",
    "    graph_vertex_str *= node_to_str(v.value)\n",
    "    graph_vertex_str *= neighbors_to_str(v.neighbors)  # join mozna zrobic\n",
    "end\n",
    "        \n",
    "function graph_to_str(graph::Array{GraphVertex,1})\n",
    "  graph_str = \"\"\n",
    "  for v in graph\n",
    "    graph_str *= graph_vertex_to_str(v)\n",
    "  end\n",
    "  graph_str\n",
    "end\n",
    "        \n",
    "             \n",
    "#= Tests graph functions by creating 100 graphs, checking Euler cycle\n",
    "  and creating text representation. =#\n",
    "function test_graph()\n",
    "  for i=1:100\n",
    "    # global graph = GraphVertex[] # passing graph as function argument, not global variable -> optimisation\n",
    "\n",
    "    A = generate_random_graph()\n",
    "    nodes = generate_random_nodes()\n",
    "    graph = convert_to_graph(A, nodes)\n",
    "\n",
    "    str = graph_to_str(graph)\n",
    "    #println(str)\n",
    "    #println(check_euler(graph))\n",
    "    res = check_euler(graph)\n",
    "    \n",
    "  end\n",
    "end\n",
    "\n",
    "end"
   ]
  },
  {
   "cell_type": "code",
   "execution_count": 2,
   "metadata": {
    "collapsed": false
   },
   "outputs": [
    {
     "name": "stdout",
     "output_type": "stream",
     "text": [
      "  2.152774 seconds (4.30 M allocations: 1.976 GB, 5.92% gc time)\n"
     ]
    },
    {
     "name": "stderr",
     "output_type": "stream",
     "text": [
      "WARNING: Base.String is deprecated, use AbstractString instead.\n",
      "  likely near In[2]:155\n",
      "WARNING: Base.String is deprecated, use AbstractString instead.\n",
      "  likely near In[2]:155\n",
      "WARNING: Base.String is deprecated, use AbstractString instead.\n",
      "  likely near In[2]:155\n",
      "WARNING: Base.String is deprecated, use AbstractString instead.\n",
      "  likely near In[2]:155\n",
      "WARNING: Base.String is deprecated, use AbstractString instead.\n",
      "  likely near In[2]:155\n"
     ]
    }
   ],
   "source": [
    "using Graphs_Optimised\n",
    "@time test_graph()"
   ]
  },
  {
   "cell_type": "code",
   "execution_count": 3,
   "metadata": {
    "collapsed": false
   },
   "outputs": [
    {
     "data": {
      "text/plain": [
       "BenchmarkTools.Trial: \n",
       "  memory estimate:  1.94 GiB\n",
       "  allocs estimate:  3404562\n",
       "  --------------\n",
       "  minimum time:     1.237 s (9.87% GC)\n",
       "  median time:      1.324 s (9.68% GC)\n",
       "  mean time:        1.371 s (9.62% GC)\n",
       "  maximum time:     1.599 s (9.32% GC)\n",
       "  --------------\n",
       "  samples:          4\n",
       "  evals/sample:     1"
      ]
     },
     "execution_count": 3,
     "metadata": {},
     "output_type": "execute_result"
    }
   ],
   "source": [
    "using BenchmarkTools\n",
    "@benchmark test_graph()"
   ]
  }
 ],
 "metadata": {
  "kernelspec": {
   "display_name": "Julia 0.4.5",
   "language": "julia",
   "name": "julia-0.4"
  },
  "language_info": {
   "file_extension": ".jl",
   "mimetype": "application/julia",
   "name": "julia",
   "version": "0.4.5"
  }
 },
 "nbformat": 4,
 "nbformat_minor": 1
}
