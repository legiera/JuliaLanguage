{
 "cells": [
  {
   "cell_type": "markdown",
   "metadata": {},
   "source": [
    "## Homework"
   ]
  },
  {
   "cell_type": "markdown",
   "metadata": {
    "deletable": true,
    "editable": true
   },
   "source": [
    "Zadanie wprowadzające z wykladu (dowolny algorytm z tablicą i pętlą)"
   ]
  },
  {
   "cell_type": "code",
   "execution_count": 1,
   "metadata": {
    "collapsed": false,
    "deletable": true,
    "editable": true
   },
   "outputs": [
    {
     "data": {
      "text/plain": [
       "insertionSort (generic function with 1 method)"
      ]
     },
     "execution_count": 1,
     "metadata": {},
     "output_type": "execute_result"
    }
   ],
   "source": [
    "function insertionSort(a::Array)\n",
    "    for i in 2:length(a)\n",
    "        tmp = a[i]\n",
    "        position = i\n",
    "\n",
    "        while position > 1 && a[position-1] > tmp\n",
    "            a[position] = a[position-1]\n",
    "            position -= 1\n",
    "        end\n",
    "\n",
    "        a[position] = tmp\n",
    "  end\n",
    "  return a\n",
    "end"
   ]
  },
  {
   "cell_type": "code",
   "execution_count": 2,
   "metadata": {
    "collapsed": false,
    "deletable": true,
    "editable": true
   },
   "outputs": [
    {
     "data": {
      "text/plain": [
       "8-element Array{Int64,1}:\n",
       "  -13\n",
       "    1\n",
       "   11\n",
       "   22\n",
       "   22\n",
       "   23\n",
       "   98\n",
       " 3333"
      ]
     },
     "execution_count": 2,
     "metadata": {},
     "output_type": "execute_result"
    }
   ],
   "source": [
    "insertionSort([1,-13,23,22,11,22,3333,98])"
   ]
  },
  {
   "cell_type": "markdown",
   "metadata": {
    "deletable": true,
    "editable": true
   },
   "source": [
    "Napisać funkcję, która bierze typ i wypisuje jego graf dziedziczenia np. w formie \"Any-->Number-->Real->AbstractFloat-->Float16\".\n",
    "\n",
    "Wskazówka: wewnetrznie typy są reprezentowane jako DataType np.: \n",
    "julia> typeof(Real) \n",
    "DataType"
   ]
  },
  {
   "cell_type": "code",
   "execution_count": 3,
   "metadata": {
    "collapsed": false,
    "deletable": true,
    "editable": true
   },
   "outputs": [
    {
     "data": {
      "text/plain": [
       "printTypeTree (generic function with 1 method)"
      ]
     },
     "execution_count": 3,
     "metadata": {},
     "output_type": "execute_result"
    }
   ],
   "source": [
    "function printTypeTree(t)\n",
    "    print(t)\n",
    "    while(t!=Any)\n",
    "        t = supertype(t)\n",
    "        print(\"<---\", t)\n",
    "    end\n",
    "end"
   ]
  },
  {
   "cell_type": "code",
   "execution_count": 4,
   "metadata": {
    "collapsed": false,
    "deletable": true,
    "editable": true
   },
   "outputs": [
    {
     "name": "stdout",
     "output_type": "stream",
     "text": [
      "Float16<---AbstractFloat<---Real<---Number<---Any"
     ]
    }
   ],
   "source": [
    "printTypeTree(Float16)"
   ]
  },
  {
   "cell_type": "code",
   "execution_count": 22,
   "metadata": {
    "collapsed": false,
    "deletable": true,
    "editable": true
   },
   "outputs": [
    {
     "name": "stdout",
     "output_type": "stream",
     "text": [
      "Bool<---Integer<---Real<---Number<---Any"
     ]
    }
   ],
   "source": [
    "printTypeTree(Bool)"
   ]
  },
  {
   "cell_type": "markdown",
   "metadata": {
    "deletable": true,
    "editable": true
   },
   "source": [
    "Napisać prostą symulację świata zwiarząt.\n",
    "- Zwierzę może być typu Drapieżnik lub Ofiara. Oba te typy powinny dziedziczyć po abstrakcyjnym typie Zwierzę.\n",
    "- Zwierzęta żyją na kwadratowej planszy NxN, N - dowolnie wybrana (ustalona) liczba. Kazde zwierzę zajmuje jedną kratkę.\n",
    "- Przetestować wsparcie Julii dla Unicode poprzez użycie polskich znaków.\n",
    "- Napisać parametryczną funkcję dodawania zwierzęcia do swiata wg podanych współrzędnych działającą dla dowolnego typu pochodnego od Zwierzę. Jeśli miejsce jest zajęte rzucany jest wyjątek.\n",
    "- Przetestować dodając kilka zwierząt do świata.\n",
    "- Napisać parametryczną funkcję odległość, ktora oblicza odległość miedzy zwierzętami metryką taksowkową . Funkcja powinna akceptować dowolne typy dziedziczące po typie Zwierzę. Przetesować działanie.\n",
    "- Napisac funkcję interakcja. Zademonstrować i przetestować mechanizm multiple dispatch pisząc następujące metody tej funkcji:\n",
    "    - jesli pierwszym argumentem jest zmienna typu Drapieżnik, a drugim zmienna typu Ofiara, Ofiara znika ze swiata.\n",
    "    - jesli pierwszym argumentem jest zmienna typu Ofiara, a druga typu Drapieżnik, Ofiara ucieka w dowolne inne wolne miejsce\n",
    "    - jesli obydwoma argumentami sa Drapieżnicy metoda zwraca string \"Wrrrr\"\n",
    "    - jsli obydwoma argumentami sa Ofiary metoda zwraca string \"Beeee\""
   ]
  },
  {
   "cell_type": "code",
   "execution_count": 5,
   "metadata": {
    "collapsed": false,
    "deletable": true,
    "editable": true
   },
   "outputs": [],
   "source": [
    "abstract Animal\n",
    "        \n",
    "type Predator <: Animal\n",
    "    name::AbstractString\n",
    "    x::Integer\n",
    "    y::Integer\n",
    " \n",
    "    Predator(name::String) = new(name, 0, 0)\n",
    "end\n",
    "\n",
    "type Victim <: Animal\n",
    "    name::AbstractString\n",
    "    x::Integer\n",
    "    y::Integer\n",
    "    \n",
    "    Victim(name::String) = new(name, 0, 0)\n",
    "end "
   ]
  },
  {
   "cell_type": "code",
   "execution_count": 6,
   "metadata": {
    "collapsed": false,
    "deletable": true,
    "editable": true
   },
   "outputs": [
    {
     "data": {
      "text/plain": [
       "createWorld (generic function with 1 method)"
      ]
     },
     "execution_count": 6,
     "metadata": {},
     "output_type": "execute_result"
    }
   ],
   "source": [
    "function createWorld(n::Integer)\n",
    "    return fill(\"#\",(n,n)) \n",
    "end"
   ]
  },
  {
   "cell_type": "code",
   "execution_count": 7,
   "metadata": {
    "collapsed": false,
    "deletable": true,
    "editable": true
   },
   "outputs": [
    {
     "data": {
      "text/plain": [
       "10×10 Array{String,2}:\n",
       " \"#\"  \"#\"  \"#\"  \"#\"  \"#\"  \"#\"  \"#\"  \"#\"  \"#\"  \"#\"\n",
       " \"#\"  \"#\"  \"#\"  \"#\"  \"#\"  \"#\"  \"#\"  \"#\"  \"#\"  \"#\"\n",
       " \"#\"  \"#\"  \"#\"  \"#\"  \"#\"  \"#\"  \"#\"  \"#\"  \"#\"  \"#\"\n",
       " \"#\"  \"#\"  \"#\"  \"#\"  \"#\"  \"#\"  \"#\"  \"#\"  \"#\"  \"#\"\n",
       " \"#\"  \"#\"  \"#\"  \"#\"  \"#\"  \"#\"  \"#\"  \"#\"  \"#\"  \"#\"\n",
       " \"#\"  \"#\"  \"#\"  \"#\"  \"#\"  \"#\"  \"#\"  \"#\"  \"#\"  \"#\"\n",
       " \"#\"  \"#\"  \"#\"  \"#\"  \"#\"  \"#\"  \"#\"  \"#\"  \"#\"  \"#\"\n",
       " \"#\"  \"#\"  \"#\"  \"#\"  \"#\"  \"#\"  \"#\"  \"#\"  \"#\"  \"#\"\n",
       " \"#\"  \"#\"  \"#\"  \"#\"  \"#\"  \"#\"  \"#\"  \"#\"  \"#\"  \"#\"\n",
       " \"#\"  \"#\"  \"#\"  \"#\"  \"#\"  \"#\"  \"#\"  \"#\"  \"#\"  \"#\""
      ]
     },
     "execution_count": 7,
     "metadata": {},
     "output_type": "execute_result"
    }
   ],
   "source": [
    "#creating world for animals\n",
    "world = createWorld(10)"
   ]
  },
  {
   "cell_type": "code",
   "execution_count": 8,
   "metadata": {
    "collapsed": true,
    "deletable": true,
    "editable": true
   },
   "outputs": [],
   "source": [
    "# my own exception\n",
    "type CannotPutAnimal <: Exception end"
   ]
  },
  {
   "cell_type": "code",
   "execution_count": 9,
   "metadata": {
    "collapsed": false,
    "deletable": true,
    "editable": true
   },
   "outputs": [
    {
     "data": {
      "text/plain": [
       "putAnimal (generic function with 1 method)"
      ]
     },
     "execution_count": 9,
     "metadata": {},
     "output_type": "execute_result"
    }
   ],
   "source": [
    "function putAnimal(a::Animal, x::Integer, y::Integer)\n",
    "    if 0 < x < size(world,1) && 0 < y < size(world,2) && world[x,y] == \"#\"\n",
    "        a.x = x\n",
    "        a.y = y\n",
    "        world[x,y] = a.name\n",
    "        println(\"$(a.name) was put on the map\")\n",
    "    else\n",
    "        throw(CannotPutAnimal())\n",
    "    end\n",
    "end"
   ]
  },
  {
   "cell_type": "code",
   "execution_count": 10,
   "metadata": {
    "collapsed": false,
    "deletable": true,
    "editable": true
   },
   "outputs": [
    {
     "data": {
      "text/plain": [
       "removeAnimal (generic function with 1 method)"
      ]
     },
     "execution_count": 10,
     "metadata": {},
     "output_type": "execute_result"
    }
   ],
   "source": [
    "function removeAnimal(a::Animal)\n",
    "    if a.x <= 0 || a.y <= 0\n",
    "        return false\n",
    "    else\n",
    "        world[a.x,a.y] = \"#\"\n",
    "        a.x = 0\n",
    "        a.y = 0\n",
    "        println(\"$(a.name) was removed from the map\")\n",
    "        return true\n",
    "    end\n",
    "end"
   ]
  },
  {
   "cell_type": "code",
   "execution_count": 11,
   "metadata": {
    "collapsed": false,
    "deletable": true,
    "editable": true
   },
   "outputs": [
    {
     "data": {
      "text/plain": [
       "distance (generic function with 1 method)"
      ]
     },
     "execution_count": 11,
     "metadata": {},
     "output_type": "execute_result"
    }
   ],
   "source": [
    "function distance(a::Animal, b::Animal) \n",
    "    sum = 0\n",
    "    if a.x <= 0 || a.y <= 0 || b.x <= 0 || b.y <= 0\n",
    "        return Inf\n",
    "    else\n",
    "        sum += abs(a.x - b.x)\n",
    "        sum += abs(a.y - b.y)\n",
    "        return sum\n",
    "    end\n",
    "end"
   ]
  },
  {
   "cell_type": "code",
   "execution_count": 12,
   "metadata": {
    "collapsed": false,
    "deletable": true,
    "editable": true
   },
   "outputs": [
    {
     "data": {
      "text/plain": [
       "Predator(\"vulture\",0,0)"
      ]
     },
     "execution_count": 12,
     "metadata": {},
     "output_type": "execute_result"
    }
   ],
   "source": [
    "#creating animals\n",
    "żaba = Victim(\"frog\")\n",
    "mysz = Victim(\"mouse\")\n",
    "lew = Predator(\"lion\")\n",
    "sęp = Predator(\"vulture\")"
   ]
  },
  {
   "cell_type": "code",
   "execution_count": 13,
   "metadata": {
    "collapsed": false,
    "deletable": true,
    "editable": true
   },
   "outputs": [
    {
     "name": "stdout",
     "output_type": "stream",
     "text": [
      "frog was put on the map\n",
      "lion was put on the map\n",
      "mouse was put on the map\n",
      "vulture was put on the map\n"
     ]
    },
    {
     "data": {
      "text/plain": [
       "10×10 Array{String,2}:\n",
       " \"#\"  \"#\"  \"frog\"  \"#\"     \"#\"      \"#\"  \"#\"  \"#\"        \"#\"  \"#\"\n",
       " \"#\"  \"#\"  \"#\"     \"lion\"  \"#\"      \"#\"  \"#\"  \"#\"        \"#\"  \"#\"\n",
       " \"#\"  \"#\"  \"#\"     \"#\"     \"#\"      \"#\"  \"#\"  \"#\"        \"#\"  \"#\"\n",
       " \"#\"  \"#\"  \"#\"     \"#\"     \"mouse\"  \"#\"  \"#\"  \"#\"        \"#\"  \"#\"\n",
       " \"#\"  \"#\"  \"#\"     \"#\"     \"#\"      \"#\"  \"#\"  \"#\"        \"#\"  \"#\"\n",
       " \"#\"  \"#\"  \"#\"     \"#\"     \"#\"      \"#\"  \"#\"  \"#\"        \"#\"  \"#\"\n",
       " \"#\"  \"#\"  \"#\"     \"#\"     \"#\"      \"#\"  \"#\"  \"vulture\"  \"#\"  \"#\"\n",
       " \"#\"  \"#\"  \"#\"     \"#\"     \"#\"      \"#\"  \"#\"  \"#\"        \"#\"  \"#\"\n",
       " \"#\"  \"#\"  \"#\"     \"#\"     \"#\"      \"#\"  \"#\"  \"#\"        \"#\"  \"#\"\n",
       " \"#\"  \"#\"  \"#\"     \"#\"     \"#\"      \"#\"  \"#\"  \"#\"        \"#\"  \"#\""
      ]
     },
     "execution_count": 13,
     "metadata": {},
     "output_type": "execute_result"
    }
   ],
   "source": [
    "#putting animals in the world\n",
    "putAnimal(żaba, 1, 3)\n",
    "putAnimal(lew, 2, 4)\n",
    "putAnimal(mysz, 4, 5)\n",
    "putAnimal(sęp, 7, 8)\n",
    "\n",
    "#lets see the world\n",
    "world"
   ]
  },
  {
   "cell_type": "code",
   "execution_count": 14,
   "metadata": {
    "collapsed": false,
    "deletable": true,
    "editable": true
   },
   "outputs": [
    {
     "ename": "LoadError",
     "evalue": "CannotPutAnimal()",
     "output_type": "error",
     "traceback": [
      "CannotPutAnimal()",
      "",
      " in putAnimal(::Predator, ::Int64, ::Int64) at ./In[9]:8"
     ]
    }
   ],
   "source": [
    "kot = Predator(\"cat\")\n",
    "putAnimal(kot, 2, 4)"
   ]
  },
  {
   "cell_type": "code",
   "execution_count": 15,
   "metadata": {
    "collapsed": false,
    "deletable": true,
    "editable": true
   },
   "outputs": [
    {
     "data": {
      "text/plain": [
       "5"
      ]
     },
     "execution_count": 15,
     "metadata": {},
     "output_type": "execute_result"
    }
   ],
   "source": [
    "#counting distance between animals\n",
    "distance(żaba, mysz)"
   ]
  },
  {
   "cell_type": "code",
   "execution_count": 16,
   "metadata": {
    "collapsed": false,
    "deletable": true,
    "editable": true
   },
   "outputs": [
    {
     "data": {
      "text/plain": [
       "interact (generic function with 4 methods)"
      ]
     },
     "execution_count": 16,
     "metadata": {},
     "output_type": "execute_result"
    }
   ],
   "source": [
    "function interact(a::Predator, b::Victim)\n",
    "    removeAnimal(b)\n",
    "    return world\n",
    "end\n",
    "\n",
    "function interact(a::Victim, b::Predator)\n",
    "    removeAnimal(a)\n",
    "    putAnimal(a, rand(1:size(world,1)), rand(1:size(world,2)))\n",
    "    return world\n",
    "end\n",
    "\n",
    "function interact(a::Predator, b::Predator)\n",
    "    return \"Wrrrr\"\n",
    "end\n",
    "\n",
    "function interact(a::Victim, b::Victim)\n",
    "    return \"Beeee\"\n",
    "end\n"
   ]
  },
  {
   "cell_type": "code",
   "execution_count": 17,
   "metadata": {
    "collapsed": false,
    "deletable": true,
    "editable": true
   },
   "outputs": [
    {
     "name": "stdout",
     "output_type": "stream",
     "text": [
      "mouse was removed from the map\n"
     ]
    },
    {
     "data": {
      "text/plain": [
       "10×10 Array{String,2}:\n",
       " \"#\"  \"#\"  \"frog\"  \"#\"     \"#\"  \"#\"  \"#\"  \"#\"        \"#\"  \"#\"\n",
       " \"#\"  \"#\"  \"#\"     \"lion\"  \"#\"  \"#\"  \"#\"  \"#\"        \"#\"  \"#\"\n",
       " \"#\"  \"#\"  \"#\"     \"#\"     \"#\"  \"#\"  \"#\"  \"#\"        \"#\"  \"#\"\n",
       " \"#\"  \"#\"  \"#\"     \"#\"     \"#\"  \"#\"  \"#\"  \"#\"        \"#\"  \"#\"\n",
       " \"#\"  \"#\"  \"#\"     \"#\"     \"#\"  \"#\"  \"#\"  \"#\"        \"#\"  \"#\"\n",
       " \"#\"  \"#\"  \"#\"     \"#\"     \"#\"  \"#\"  \"#\"  \"#\"        \"#\"  \"#\"\n",
       " \"#\"  \"#\"  \"#\"     \"#\"     \"#\"  \"#\"  \"#\"  \"vulture\"  \"#\"  \"#\"\n",
       " \"#\"  \"#\"  \"#\"     \"#\"     \"#\"  \"#\"  \"#\"  \"#\"        \"#\"  \"#\"\n",
       " \"#\"  \"#\"  \"#\"     \"#\"     \"#\"  \"#\"  \"#\"  \"#\"        \"#\"  \"#\"\n",
       " \"#\"  \"#\"  \"#\"     \"#\"     \"#\"  \"#\"  \"#\"  \"#\"        \"#\"  \"#\""
      ]
     },
     "execution_count": 17,
     "metadata": {},
     "output_type": "execute_result"
    }
   ],
   "source": [
    "interact(sęp, mysz)"
   ]
  },
  {
   "cell_type": "code",
   "execution_count": 18,
   "metadata": {
    "collapsed": false,
    "deletable": true,
    "editable": true
   },
   "outputs": [
    {
     "name": "stdout",
     "output_type": "stream",
     "text": [
      "frog was removed from the map\n",
      "frog was put on the map\n"
     ]
    },
    {
     "data": {
      "text/plain": [
       "10×10 Array{String,2}:\n",
       " \"#\"     \"#\"  \"#\"  \"#\"     \"#\"  \"#\"  \"#\"  \"#\"        \"#\"  \"#\"\n",
       " \"frog\"  \"#\"  \"#\"  \"lion\"  \"#\"  \"#\"  \"#\"  \"#\"        \"#\"  \"#\"\n",
       " \"#\"     \"#\"  \"#\"  \"#\"     \"#\"  \"#\"  \"#\"  \"#\"        \"#\"  \"#\"\n",
       " \"#\"     \"#\"  \"#\"  \"#\"     \"#\"  \"#\"  \"#\"  \"#\"        \"#\"  \"#\"\n",
       " \"#\"     \"#\"  \"#\"  \"#\"     \"#\"  \"#\"  \"#\"  \"#\"        \"#\"  \"#\"\n",
       " \"#\"     \"#\"  \"#\"  \"#\"     \"#\"  \"#\"  \"#\"  \"#\"        \"#\"  \"#\"\n",
       " \"#\"     \"#\"  \"#\"  \"#\"     \"#\"  \"#\"  \"#\"  \"vulture\"  \"#\"  \"#\"\n",
       " \"#\"     \"#\"  \"#\"  \"#\"     \"#\"  \"#\"  \"#\"  \"#\"        \"#\"  \"#\"\n",
       " \"#\"     \"#\"  \"#\"  \"#\"     \"#\"  \"#\"  \"#\"  \"#\"        \"#\"  \"#\"\n",
       " \"#\"     \"#\"  \"#\"  \"#\"     \"#\"  \"#\"  \"#\"  \"#\"        \"#\"  \"#\""
      ]
     },
     "execution_count": 18,
     "metadata": {},
     "output_type": "execute_result"
    }
   ],
   "source": [
    "interact(żaba, lew)"
   ]
  },
  {
   "cell_type": "code",
   "execution_count": 19,
   "metadata": {
    "collapsed": false,
    "deletable": true,
    "editable": true
   },
   "outputs": [
    {
     "data": {
      "text/plain": [
       "\"Beeee\""
      ]
     },
     "execution_count": 19,
     "metadata": {},
     "output_type": "execute_result"
    }
   ],
   "source": [
    "interact(żaba, mysz)"
   ]
  },
  {
   "cell_type": "code",
   "execution_count": 20,
   "metadata": {
    "collapsed": false,
    "deletable": true,
    "editable": true
   },
   "outputs": [
    {
     "data": {
      "text/plain": [
       "\"Wrrrr\""
      ]
     },
     "execution_count": 20,
     "metadata": {},
     "output_type": "execute_result"
    }
   ],
   "source": [
    "interact(lew, sęp)"
   ]
  }
 ],
 "metadata": {
  "kernelspec": {
   "display_name": "Julia 0.4.5",
   "language": "julia",
   "name": "julia-0.4"
  },
  "language_info": {
   "file_extension": ".jl",
   "mimetype": "application/julia",
   "name": "julia",
   "version": "0.4.5"
  }
 },
 "nbformat": 4,
 "nbformat_minor": 1
}
