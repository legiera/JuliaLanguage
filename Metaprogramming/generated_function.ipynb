{
 "cells": [
  {
   "cell_type": "markdown",
   "metadata": {
    "collapsed": true,
    "deletable": true,
    "editable": true
   },
   "source": [
    "Napisać funkcję generowaną, która oblicza średnią harmoniczną:\n",
    "- funkcja powinna przyjmować dowolną liczbę argumentów wykorzystując mechanizm varargs,\n",
    "- przy pierwszym uruchomieniu dla danej liczby argumentów ma miejsce jej rozwinięcie w odpowiednie wyrażenie, składające się z operacji takich jak \"/\" czy \"+\",\n",
    "- rozwinięcie nie powinno wykorzystywać pętli czy iterowania po kolekcjach!"
   ]
  },
  {
   "cell_type": "code",
   "execution_count": 1,
   "metadata": {
    "collapsed": false,
    "deletable": true,
    "editable": true
   },
   "outputs": [
    {
     "data": {
      "text/plain": [
       "harmonic_mean (generic function with 1 method)"
      ]
     },
     "execution_count": 1,
     "metadata": {},
     "output_type": "execute_result"
    }
   ],
   "source": [
    "@generated function harmonic_mean(x...)\n",
    "    sum = :(0)\n",
    "    for i = 1:length(x)\n",
    "        sum = :(1/x[$i] + $sum)\n",
    "    end\n",
    "    mean = :(length(x) / $sum)\n",
    "    return mean\n",
    "end"
   ]
  },
  {
   "cell_type": "code",
   "execution_count": 2,
   "metadata": {
    "collapsed": false,
    "deletable": true,
    "editable": true
   },
   "outputs": [
    {
     "data": {
      "text/plain": [
       "1.9200000000000004"
      ]
     },
     "execution_count": 2,
     "metadata": {},
     "output_type": "execute_result"
    }
   ],
   "source": [
    "harmonic_mean(1, 2, 3, 4)"
   ]
  },
  {
   "cell_type": "code",
   "execution_count": 3,
   "metadata": {
    "collapsed": false,
    "deletable": true,
    "editable": true
   },
   "outputs": [
    {
     "data": {
      "text/plain": [
       "harm_mean (generic function with 1 method)"
      ]
     },
     "execution_count": 3,
     "metadata": {},
     "output_type": "execute_result"
    }
   ],
   "source": [
    "function harm_mean(x...)\n",
    "    sum = 0\n",
    "    for i = 1:length(x)\n",
    "        sum = 1/x[i] + sum\n",
    "    end\n",
    "    mean = length(x) / sum\n",
    "    return mean\n",
    "end"
   ]
  },
  {
   "cell_type": "code",
   "execution_count": 4,
   "metadata": {
    "collapsed": false,
    "deletable": true,
    "editable": true
   },
   "outputs": [
    {
     "data": {
      "text/plain": [
       "1.9200000000000004"
      ]
     },
     "execution_count": 4,
     "metadata": {},
     "output_type": "execute_result"
    }
   ],
   "source": [
    "harm_mean(1,2,3,4)"
   ]
  }
 ],
 "metadata": {
  "kernelspec": {
   "display_name": "Julia 0.4.5",
   "language": "julia",
   "name": "julia-0.4"
  },
  "language_info": {
   "file_extension": ".jl",
   "mimetype": "application/julia",
   "name": "julia",
   "version": "0.4.5"
  }
 },
 "nbformat": 4,
 "nbformat_minor": 1
}
