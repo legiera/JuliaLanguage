{
 "cells": [
  {
   "cell_type": "markdown",
   "metadata": {
    "deletable": true,
    "editable": true
   },
   "source": [
    "Napisać makro, które wypełni tablicę elementami ciągu:\n",
    "- ciąg jest zdefiniowany w postaci wyrażenia opisującego zależność rekurencyjną.\n",
    "- tablica jest wcześniej zaalokowana, zawiera również początkowe wartości ciągu.\n",
    "\n",
    "Przykładowe działanie gotowego makra. Poniższy kod:\n",
    "\n",
    "y = zeros(10)\n",
    "\n",
    "y[1:2] = [1, 1]\n",
    "\n",
    "@fill_series y[t] = y[t-1] + y[t-2]\n",
    "\n",
    "println(y)\n",
    "\n",
    "powinien wypisać\n",
    "[1.0,1.0,2.0,3.0,5.0,8.0,13.0,21.0,34.0,55.0]"
   ]
  },
  {
   "cell_type": "code",
   "execution_count": 1,
   "metadata": {
    "collapsed": true,
    "deletable": true,
    "editable": true
   },
   "outputs": [],
   "source": [
    "macro fill_series_1(expr)\n",
    "  left, right = expr.args\n",
    "  i = left.args[2]\n",
    "  quote\n",
    "    for $i in 1:(length($(left.args[1])))\n",
    "      try $expr\n",
    "        catch BoundsError\n",
    "      end\n",
    "    end\n",
    "  end\n",
    "end"
   ]
  },
  {
   "cell_type": "code",
   "execution_count": 2,
   "metadata": {
    "collapsed": true,
    "deletable": true,
    "editable": true
   },
   "outputs": [],
   "source": [
    "macro fill_series_2(expr)\n",
    "  minval = index_range(string(expr))[1]\n",
    "  maxval = index_range(string(expr))[2]\n",
    "  quote\n",
    "    t = $minval\n",
    "    while t <= $maxval\n",
    "      $expr\n",
    "      t += 1\n",
    "    end\n",
    "  end\n",
    "end"
   ]
  },
  {
   "cell_type": "code",
   "execution_count": 3,
   "metadata": {
    "collapsed": false,
    "deletable": true,
    "editable": true
   },
   "outputs": [
    {
     "name": "stdout",
     "output_type": "stream",
     "text": [
      "Expr \n",
      "  head: Symbol =\n",
      "  args: Array(Any,(2,))\n",
      "    1: Expr \n",
      "      head: Symbol ref\n",
      "      args: Array(Any,(2,))\n",
      "        1: Symbol x\n",
      "        2: Symbol t\n",
      "      typ: Any\n",
      "    2: Expr \n",
      "      head: Symbol call\n",
      "      args: Array(Any,(3,))\n",
      "        1: Symbol +\n",
      "        2: Expr \n",
      "          head: Symbol call\n",
      "          args: Array(Any,(3,))\n",
      "          typ: Any\n",
      "        3: Expr \n",
      "          head: Symbol ref\n",
      "          args: Array(Any,(2,))\n",
      "          typ: Any\n",
      "      typ: Any\n",
      "  typ: Any\n"
     ]
    }
   ],
   "source": [
    "dump(parse(\"x[t] = x[t-1] * 2 + x[t-2]\"))"
   ]
  },
  {
   "cell_type": "code",
   "execution_count": 4,
   "metadata": {
    "collapsed": false,
    "deletable": true,
    "editable": true
   },
   "outputs": [
    {
     "data": {
      "text/plain": [
       "index_range (generic function with 1 method)"
      ]
     },
     "execution_count": 4,
     "metadata": {},
     "output_type": "execute_result"
    }
   ],
   "source": [
    "function index_range(expr::AbstractString) \n",
    "  min = 0\n",
    "  max = 0\n",
    "   \n",
    "  s = parse(expr)\n",
    "  symbol = s.args[1].args[1]\n",
    "  \n",
    "  for i in s.args[2].args\n",
    "    if(typeof(i) == Expr)\n",
    "      tmp = i.args[2]\n",
    "\n",
    "      if(tmp.args[1] == symbol)\n",
    "        tmp = tmp.args[2]\n",
    "      end\n",
    "\n",
    "      s = string(tmp)\n",
    "      s = s[3:length(s)]\n",
    "      val = parse(Int64,s,10)\n",
    "\n",
    "      if(val < min)\n",
    "        min = val\n",
    "      elseif(val > max)\n",
    "        max = val\n",
    "      end\n",
    "\n",
    "    end\n",
    "  end\n",
    "\n",
    "  min = abs(min) + 1\n",
    "  max = N - max\n",
    "  return [min, max]\n",
    "end"
   ]
  },
  {
   "cell_type": "code",
   "execution_count": 5,
   "metadata": {
    "collapsed": false,
    "deletable": true,
    "editable": true
   },
   "outputs": [
    {
     "data": {
      "text/plain": [
       "2-element Array{Int64,1}:\n",
       " 1\n",
       " 1"
      ]
     },
     "execution_count": 5,
     "metadata": {},
     "output_type": "execute_result"
    }
   ],
   "source": [
    "const N = 10\n",
    "y = zeros(N)\n",
    "y[1:2] = [1,1]"
   ]
  },
  {
   "cell_type": "code",
   "execution_count": 6,
   "metadata": {
    "collapsed": false,
    "deletable": true,
    "editable": true
   },
   "outputs": [
    {
     "name": "stdout",
     "output_type": "stream",
     "text": [
      "Evaluating y[t] = y[t-1] + y[t-2]\n",
      "[1.0,1.0,2.0,3.0,5.0,8.0,13.0,21.0,34.0,55.0]\n"
     ]
    }
   ],
   "source": [
    "@fill_series_1 y[t] = y[t-1] + y[t-2]\n",
    "println(\"Evaluating y[t] = y[t-1] + y[t-2]\")\n",
    "println(y)"
   ]
  },
  {
   "cell_type": "code",
   "execution_count": 7,
   "metadata": {
    "collapsed": false,
    "deletable": true,
    "editable": true
   },
   "outputs": [
    {
     "data": {
      "text/plain": [
       "2-element Array{Int64,1}:\n",
       " 1\n",
       " 1"
      ]
     },
     "execution_count": 7,
     "metadata": {},
     "output_type": "execute_result"
    }
   ],
   "source": [
    "z = zeros(N)\n",
    "z[1:2] = [1,1]"
   ]
  },
  {
   "cell_type": "code",
   "execution_count": 8,
   "metadata": {
    "collapsed": false,
    "deletable": true,
    "editable": true
   },
   "outputs": [
    {
     "name": "stdout",
     "output_type": "stream",
     "text": [
      "\n",
      "Evaluating z[t] = z[t-1] + z[t-2]\n",
      "[1.0,1.0,2.0,3.0,5.0,8.0,13.0,21.0,34.0,55.0]\n"
     ]
    }
   ],
   "source": [
    "@fill_series_2 z[t] = z[t-1] + z[t-2]\n",
    "println(\"\\nEvaluating z[t] = z[t-1] + z[t-2]\")\n",
    "println(z)"
   ]
  },
  {
   "cell_type": "code",
   "execution_count": 9,
   "metadata": {
    "collapsed": false,
    "deletable": true,
    "editable": true
   },
   "outputs": [
    {
     "data": {
      "text/plain": [
       "2-element Array{Int64,1}:\n",
       " 1\n",
       " 1"
      ]
     },
     "execution_count": 9,
     "metadata": {},
     "output_type": "execute_result"
    }
   ],
   "source": [
    "x = zeros(N)\n",
    "x[1:2] = [1,1]"
   ]
  },
  {
   "cell_type": "code",
   "execution_count": 10,
   "metadata": {
    "collapsed": false,
    "deletable": true,
    "editable": true
   },
   "outputs": [
    {
     "name": "stdout",
     "output_type": "stream",
     "text": [
      "\n",
      "Evaluating x[t] = x[t-1] * 2 + x[t-2]\n",
      "[1.0,1.0,3.0,7.0,17.0,41.0,99.0,239.0,577.0,1393.0]\n"
     ]
    }
   ],
   "source": [
    "@fill_series_1 x[t] = x[t-1] * 2 + x[t-2]\n",
    "println(\"\\nEvaluating x[t] = x[t-1] * 2 + x[t-2]\")\n",
    "println(x)"
   ]
  },
  {
   "cell_type": "code",
   "execution_count": 11,
   "metadata": {
    "collapsed": false,
    "deletable": true,
    "editable": true
   },
   "outputs": [
    {
     "data": {
      "text/plain": [
       "2-element Array{Int64,1}:\n",
       " 1\n",
       " 1"
      ]
     },
     "execution_count": 11,
     "metadata": {},
     "output_type": "execute_result"
    }
   ],
   "source": [
    "c = zeros(N)\n",
    "c[1:2] = [1,1]"
   ]
  },
  {
   "cell_type": "code",
   "execution_count": 12,
   "metadata": {
    "collapsed": false,
    "deletable": true,
    "editable": true
   },
   "outputs": [
    {
     "name": "stdout",
     "output_type": "stream",
     "text": [
      "\n",
      "Evaluating x[t] = c[t-1] * 2 + c[t-2]\n",
      "[1.0,1.0,1.5,1.75,2.375,2.9375,3.84375,4.859375,6.2734375,7.99609375]\n"
     ]
    }
   ],
   "source": [
    "@fill_series_2 c[t] = c[t-1] / 2 + c[t-2]\n",
    "println(\"\\nEvaluating x[t] = c[t-1] * 2 + c[t-2]\")\n",
    "println(c)"
   ]
  }
 ],
 "metadata": {
  "kernelspec": {
   "display_name": "Julia 0.4.5",
   "language": "julia",
   "name": "julia-0.4"
  },
  "language_info": {
   "file_extension": ".jl",
   "mimetype": "application/julia",
   "name": "julia",
   "version": "0.4.5"
  }
 },
 "nbformat": 4,
 "nbformat_minor": 2
}
